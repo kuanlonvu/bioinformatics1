{
 "cells": [
  {
   "cell_type": "markdown",
   "metadata": {},
   "source": [
    "### Week 5 - Biological Databases - Protein-Protein Interactions & Pathways\n",
    "- October 2023\n",
    "- [https://https://github.com/tisimpson/bioinformatics1](https://github.com/tisimpson/bioinformatics1)\n",
    "- [ian.simpson@ed.ac.uk](mailto:ian.simpson@ed.ac.uk)"
   ]
  },
  {
   "cell_type": "code",
   "execution_count": null,
   "metadata": {},
   "outputs": [],
   "source": [
    "import pandas as pd\n",
    "import urllib as ul\n",
    "import numpy as np"
   ]
  },
  {
   "cell_type": "code",
   "execution_count": null,
   "metadata": {},
   "outputs": [],
   "source": [
    "# Fetching KEGG pathway data\n",
    "\n",
    "human_pathways = pd.read_csv(ul.request.urlopen('http://rest.kegg.jp/list/pathway/hsa'),sep='\\t',header=0,names=['kegg_id','pathway_name'])\n",
    "\n",
    "# we're looking for \"Dopaminergic Synapse\"\n",
    "\n",
    "human_pathways.head()"
   ]
  },
  {
   "cell_type": "code",
   "execution_count": null,
   "metadata": {},
   "outputs": [],
   "source": [
    "# Extracting the KEGG ID for the pathway we're interested in\n",
    "pathway_id = human_pathways[human_pathways['pathway_name'].str.match('Dopaminergic synapse')]['kegg_id']\n",
    "print(pathway_id.values)"
   ]
  },
  {
   "cell_type": "code",
   "execution_count": null,
   "metadata": {
    "tags": []
   },
   "outputs": [],
   "source": [
    "# we can use the KEGG API to fetch the pathway data\n",
    "# pull the pathway entry from KEGG\n",
    "\n",
    "ul.request.urlretrieve('http://rest.kegg.jp/get/'+pathway_id.to_numpy()[0],'../data/pathways/dop_synapse.txt')\n",
    "\n",
    "# why not open this file and look at the contents. You will see the full pathway details including the gene names\n",
    "\n",
    "# open the file\n",
    "dop_file = open('../data/pathways/dop_synapse.txt','r')\n",
    "\n",
    "# I wanted to show you some basic python parsing and a simple for loop with a conditional in to demonstrate how you can quickly build simple parsers.\n",
    "# There are quicker ways to do this, but this is a good learning example.\n",
    "\n",
    "# set a flag for our parser, we will use this to know when we are in the gene section of the file\n",
    "flag=0\n",
    "\n",
    "# create a list to hold the genes\n",
    "genes = []\n",
    "\n",
    "# work through the text file one line at a time\n",
    "# notice we're pulling the line information so not just the gene id but also the description\n",
    "for line in dop_file:\n",
    "    # find the start of the gene entries\n",
    "    if 'GENE' in line:\n",
    "        # add the first gene to the list\n",
    "        genes.append(pd.Series(line.strip('GENE').strip().split('  ')))\n",
    "        # set the flag to 1, we are in the gene section of the file\n",
    "        flag = 1\n",
    "    # stop when we reach the end of the section and escape the file\n",
    "    elif 'COMPOUND' in line:\n",
    "        break\n",
    "    # continue adding the genes to the list\n",
    "    elif flag == 1:\n",
    "        genes.append(pd.Series(line.strip().split('  ',2)))\n",
    "\n",
    "# close the file\n",
    "dop_file.close()\n",
    "\n",
    "# convert the list to a dataframe\n",
    "dop_df = pd.DataFrame(genes)\n",
    "\n",
    "# name the columns\n",
    "dop_df.columns = ['gene_id','description']\n",
    "\n",
    "# you now have the gene_ids (NCBI Entrez GeneIDs for the genes in the pathway)\n",
    "print('The Dopaminergic Synapse pathway has '+str(dop_df.shape[0])+' genes in it.\\n')\n",
    "\n",
    "# show the gene_ids\n",
    "print(dop_df['gene_id'].to_numpy())"
   ]
  },
  {
   "cell_type": "code",
   "execution_count": null,
   "metadata": {},
   "outputs": [],
   "source": [
    "# print this out in a nice table\n",
    "\n",
    "import prettytable as pt\n",
    "\n",
    "# create a pretty table object\n",
    "table = pt.PrettyTable()\n",
    "\n",
    "# add the columns\n",
    "table.add_column('Gene ID',dop_df['gene_id'].to_numpy())\n",
    "table.add_column('Description',dop_df['description'].to_numpy())\n",
    "\n",
    "# print out the table\n",
    "print(table)"
   ]
  },
  {
   "cell_type": "code",
   "execution_count": null,
   "metadata": {},
   "outputs": [],
   "source": [
    "# lets practice writing out a simple gene_id file\n",
    "\n",
    "f = open('../data/pathways/dop_geneids.txt','w')\n",
    "\n",
    "for i in dop_df['gene_id']:\n",
    "     f.write(i+'\\n')\n",
    "\n",
    "f.close()\n",
    "\n",
    "# we could go on to use this basic file of gene ids to retreive protein interaction data from BioGrid or Intact. We will do this in the week6 lab using APIs.\n",
    "\n",
    "# you could have a look at one of the most commonly used protein-protein interaction databases in advance if you like:\n",
    "#   STRING - https://string-db.org/ or BIOGRID - https://thebiogrid.org/"
   ]
  }
 ],
 "metadata": {
  "interpreter": {
   "hash": "3780209f5c547b790e301ddcf82da1791fd2d3a86603b11e6f996468095ce25a"
  },
  "kernelspec": {
   "display_name": "Python 3.7.4 64-bit (conda)",
   "name": "python3"
  },
  "language_info": {
   "codemirror_mode": {
    "name": "ipython",
    "version": 3
   },
   "file_extension": ".py",
   "mimetype": "text/x-python",
   "name": "python",
   "nbconvert_exporter": "python",
   "pygments_lexer": "ipython3",
   "version": "3.11.5"
  },
  "orig_nbformat": 2
 },
 "nbformat": 4,
 "nbformat_minor": 2
}
