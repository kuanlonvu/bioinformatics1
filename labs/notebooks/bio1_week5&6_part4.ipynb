{
 "cells": [
  {
   "cell_type": "markdown",
   "metadata": {},
   "source": [
    "### Week 5 - Biological Databases - PubMed\n",
    "- October 2023\n",
    "- [https://https://github.com/tisimpson/bioinformatics1](https://github.com/tisimpson/bioinformatics1)\n",
    "- [ian.simpson@ed.ac.uk](mailto:ian.simpson@ed.ac.uk)"
   ]
  },
  {
   "cell_type": "code",
   "execution_count": null,
   "metadata": {},
   "outputs": [],
   "source": [
    "import pandas as pd\n",
    "import urllib as ul\n",
    "import numpy as np"
   ]
  },
  {
   "cell_type": "code",
   "execution_count": null,
   "metadata": {},
   "outputs": [],
   "source": [
    "%pip install biopython"
   ]
  },
  {
   "cell_type": "code",
   "execution_count": null,
   "metadata": {},
   "outputs": [],
   "source": [
    "from Bio import Entrez\n",
    "\n",
    "Entrez.email = \"A.N.Other@example.com\" # You should replace this with your e-mail address \n",
    "\n",
    "year_counts = {}\n",
    "\n",
    "# note the egquery function provides Entrez database counts from a global search.\n",
    "for i in range(2010,2023,1):\n",
    "    handle = Entrez.egquery(term=str(i)+'[dp]')\n",
    "    record = Entrez.read(handle)\n",
    "    handle.close()\n",
    "    # we can iterate through the record and only return the 'nucleotide' result\n",
    "    for row in record[\"eGQueryResult\"]:\n",
    "        if row[\"DbName\"]==\"pubmed\":\n",
    "            year_counts[i] = int(row[\"Count\"])\n",
    "\n",
    "print(year_counts)"
   ]
  },
  {
   "cell_type": "code",
   "execution_count": null,
   "metadata": {},
   "outputs": [],
   "source": [
    "papers_by_year = pd.DataFrame.from_dict(year_counts,orient='index',columns=['counts'])\n",
    "\n",
    "papers_by_year.plot.bar(xlabel='year',ylabel='paper count',legend=False)"
   ]
  },
  {
   "cell_type": "code",
   "execution_count": null,
   "metadata": {},
   "outputs": [],
   "source": [
    "#how many Autism papers?\n",
    "\n",
    "#search 1\n",
    "handle = Entrez.egquery(term='\"Autism Spectrum Disorder\"')\n",
    "record = Entrez.read(handle)\n",
    "handle.close()\n",
    "\n",
    "for row in record[\"eGQueryResult\"]:\n",
    "    if row[\"DbName\"]==\"pubmed\":\n",
    "        print('Using phrase but no tag')\n",
    "        print(row[\"Count\"]+' papers\\n')\n",
    "\n",
    "#search 2\n",
    "handle = Entrez.egquery(term='Autism')\n",
    "record = Entrez.read(handle)\n",
    "handle.close()\n",
    "\n",
    "for row in record[\"eGQueryResult\"]:\n",
    "    if row[\"DbName\"]==\"pubmed\":\n",
    "        print('Using just Autism')\n",
    "        print(row[\"Count\"]+' papers\\n')\n",
    "\n",
    "#search 3\n",
    "handle = Entrez.egquery(term='\"Autism Spectrum Disorder\"'+'[MH]')\n",
    "record = Entrez.read(handle)\n",
    "handle.close()\n",
    "\n",
    "for row in record[\"eGQueryResult\"]:\n",
    "    if row[\"DbName\"]==\"pubmed\":\n",
    "        print('Using MeSH')\n",
    "        print(row[\"Count\"]+' papers\\n')\n",
    "\n",
    "#which is best and why?"
   ]
  },
  {
   "cell_type": "code",
   "execution_count": null,
   "metadata": {},
   "outputs": [],
   "source": [
    "#RNA sequencing\n",
    "rna_sequencing_counts = {}\n",
    "\n",
    "# note the egquery function provides Entrez database counts from a global search.\n",
    "for i in range(2010,2022,1):\n",
    "    handle = Entrez.egquery(term=str(i)+'[dp] AND \"RNA sequencing\"')\n",
    "    record = Entrez.read(handle)\n",
    "    handle.close()\n",
    "    # we can iterate through the record and only return the 'nucleotide' result\n",
    "    for row in record[\"eGQueryResult\"]:\n",
    "        if row[\"DbName\"]==\"pubmed\":\n",
    "            rna_sequencing_counts[i] = int(row[\"Count\"])\n",
    "\n",
    "rnaseq_papers_by_year = pd.DataFrame.from_dict(rna_sequencing_counts,orient='index',columns=['counts'])\n",
    "\n",
    "rnaseq_papers_by_year.plot.line(xlabel='year',ylabel='paper count',legend=False)"
   ]
  },
  {
   "cell_type": "code",
   "execution_count": null,
   "metadata": {},
   "outputs": [],
   "source": [
    "#microarray\n",
    "microarray_counts = {}\n",
    "\n",
    "# note the egquery function provides Entrez database counts from a global search.\n",
    "for i in range(2010,2022,1):\n",
    "    handle = Entrez.egquery(term=str(i)+'[dp] AND microarray')\n",
    "    record = Entrez.read(handle)\n",
    "    handle.close()\n",
    "    # we can iterate through the record and only return the 'nucleotide' result\n",
    "    for row in record[\"eGQueryResult\"]:\n",
    "        if row[\"DbName\"]==\"pubmed\":\n",
    "            microarray_counts[i] = int(row[\"Count\"])\n",
    "\n",
    "microarray_papers_by_year = pd.DataFrame.from_dict(microarray_counts,orient='index',columns=['counts'])\n",
    "\n",
    "microarray_papers_by_year.plot.line(xlabel='year',ylabel='paper count',legend=False)"
   ]
  },
  {
   "cell_type": "code",
   "execution_count": null,
   "metadata": {},
   "outputs": [],
   "source": [
    "#plot both data together\n",
    "\n",
    "combined = pd.merge(rnaseq_papers_by_year,microarray_papers_by_year,left_index=True,right_index=True)\n",
    "\n",
    "combined.columns = ['RNA-seq','microarray']\n",
    "\n",
    "combined.plot.line(xlabel='year',ylabel='paper count')\n",
    "\n",
    "#what is this graph telling us?"
   ]
  }
 ],
 "metadata": {
  "interpreter": {
   "hash": "3780209f5c547b790e301ddcf82da1791fd2d3a86603b11e6f996468095ce25a"
  },
  "kernelspec": {
   "display_name": "Python 3.7.4 64-bit (conda)",
   "name": "python3"
  },
  "language_info": {
   "codemirror_mode": {
    "name": "ipython",
    "version": 3
   },
   "file_extension": ".py",
   "mimetype": "text/x-python",
   "name": "python",
   "nbconvert_exporter": "python",
   "pygments_lexer": "ipython3",
   "version": "3.11.5"
  },
  "orig_nbformat": 2
 },
 "nbformat": 4,
 "nbformat_minor": 2
}
