{
 "cells": [
  {
   "cell_type": "markdown",
   "metadata": {},
   "source": [
    "### Week 5 - Biological Databases - PubMed\n",
    "- October 2023\n",
    "- [https://https://github.com/tisimpson/bioinformatics1](https://github.com/tisimpson/bioinformatics1)\n",
    "- [ian.simpson@ed.ac.uk](mailto:ian.simpson@ed.ac.uk)"
   ]
  },
  {
   "cell_type": "code",
   "execution_count": null,
   "metadata": {},
   "outputs": [],
   "source": [
    "import pandas as pd\n",
    "import urllib as ul\n",
    "import numpy as np"
   ]
  },
  {
   "cell_type": "code",
   "execution_count": null,
   "metadata": {},
   "outputs": [],
   "source": [
    "%pip install biopython"
   ]
  },
  {
   "cell_type": "markdown",
   "metadata": {},
   "source": [
    "1. Plot a graph of how many papers were in PubMed in each year for the last 10 years\n",
    "2. How many papers are there relating to Cadherin-7 and human disease? what diseases are mentioned?\n",
    "    - Try three different search strategies, which one do you think is best and why?\n",
    "3. Can you use PubMed to work out how the emerging popularity of single-cell RNA sequencing to measure gene expression over the last 10 years?"
   ]
  },
  {
   "cell_type": "code",
   "execution_count": null,
   "metadata": {},
   "outputs": [],
   "source": [
    "from Bio import Entrez\n",
    "\n",
    "Entrez.email = \"A.N.Other@example.com\" # You should replace this with your e-mail address \n",
    "\n",
    "year_counts = {}\n",
    "\n",
    "# note the egquery function provides Entrez database counts from a global search.\n",
    "for i in range(2012,2023,1):\n",
    "    handle = Entrez.egquery(term='1900:'+str(i)+'[dp]')\n",
    "    record = Entrez.read(handle)\n",
    "    handle.close()\n",
    "    # we can iterate through the record and only return the 'nucleotide' result\n",
    "    for row in record[\"eGQueryResult\"]:\n",
    "        if row[\"DbName\"]==\"pubmed\":\n",
    "            year_counts[i] = int(row[\"Count\"])\n",
    "\n",
    "print(year_counts)"
   ]
  },
  {
   "cell_type": "code",
   "execution_count": null,
   "metadata": {},
   "outputs": [],
   "source": [
    "papers_by_year = pd.DataFrame.from_dict(year_counts,orient='index',columns=['counts'])\n",
    "\n",
    "#plot with scientific notation on the y-axis\n",
    "ax = papers_by_year.plot(kind='bar',logy=False,legend=False)\n",
    "ax.set_xlabel('Year')\n",
    "ax.set_ylabel('Number of Papers')\n",
    "ax.set_title('PubMed Paper Content by Year')"
   ]
  },
  {
   "cell_type": "code",
   "execution_count": null,
   "metadata": {},
   "outputs": [],
   "source": [
    "from Bio import Entrez\n",
    "\n",
    "Entrez.email = \"A.N.Other@example.com\" # You should replace this with your e-mail address \n",
    "\n",
    "decade_counts = {}\n",
    "\n",
    "# note the egquery function provides Entrez database counts from a global search.\n",
    "for i in range(1910,2023,10):\n",
    "    handle = Entrez.egquery(term='1900:'+str(i)+'[dp]')\n",
    "    record = Entrez.read(handle)\n",
    "    handle.close()\n",
    "    # we can iterate through the record and only return the 'nucleotide' result\n",
    "    for row in record[\"eGQueryResult\"]:\n",
    "        if row[\"DbName\"]==\"pubmed\":\n",
    "            decade_counts[i] = int(row[\"Count\"])\n",
    "\n",
    "print(decade_counts)"
   ]
  },
  {
   "cell_type": "code",
   "execution_count": null,
   "metadata": {},
   "outputs": [],
   "source": [
    "papers_by_year = pd.DataFrame.from_dict(decade_counts,orient='index',columns=['counts'])\n",
    "\n",
    "#plot with scientific notation on the y-axis\n",
    "ax = papers_by_year.plot(kind='bar',logy=False,legend=False)\n",
    "ax.set_xlabel('Year')\n",
    "ax.set_ylabel('Number of Papers')\n",
    "ax.set_title('PubMed Paper Content by Decade')"
   ]
  },
  {
   "cell_type": "code",
   "execution_count": null,
   "metadata": {},
   "outputs": [],
   "source": [
    "#how many Cadherin-7 disease papers?\n",
    "\n",
    "from Bio import Medline\n",
    "\n",
    "#search 1\n",
    "search_term = \"Cadherin-7 AND disease\"\n",
    "handle = Entrez.egquery(term=search_term)\n",
    "record = Entrez.read(handle)\n",
    "handle.close()\n",
    "\n",
    "for row in record[\"eGQueryResult\"]:\n",
    "    if row[\"DbName\"]==\"pubmed\":\n",
    "        print('Using',search_term)\n",
    "        print(row[\"Count\"]+' papers\\n')\n",
    "\n",
    "#fetch the papers\n",
    "handle = Entrez.esearch(db=\"pubmed\", term=search_term, retmax=100)\n",
    "record = Entrez.read(handle)\n",
    "handle.close()\n",
    "\n",
    "# we're going to use the biopython Medline parser to parse the records\n",
    "# https://biopython.org/docs/1.75/api/Bio.Medline.html\n",
    "# print out the paper titles\n",
    "for id in record['IdList']:\n",
    "    handle = Entrez.efetch(db=\"pubmed\", id=id, rettype=\"medline\", retmode=\"text\")\n",
    "    record = Medline.parse(handle)\n",
    "    for article in record:\n",
    "        print(article['TI'])\n",
    "    handle.close()"
   ]
  },
  {
   "cell_type": "code",
   "execution_count": null,
   "metadata": {},
   "outputs": [],
   "source": [
    "#search 2\n",
    "\n",
    "# design some simple function to make this a bit more scalable - count the number of papers\n",
    "def paperCount(search_term):\n",
    "    handle = Entrez.egquery(term=search_term)\n",
    "    record = Entrez.read(handle)\n",
    "    handle.close()\n",
    "    for row in record[\"eGQueryResult\"]:\n",
    "        if row[\"DbName\"]==\"pubmed\":\n",
    "            print(f'Using',search_term,'returned',row[\"Count\"],'papers')\n",
    "\n",
    "# design some simple function to make this a bit more scalable - fetch the papers and print the titles\n",
    "def fetchPapers(search_term):\n",
    "    handle = Entrez.esearch(db=\"pubmed\", term=search_term, retmax=100)\n",
    "    record = Entrez.read(handle)\n",
    "    handle.close()\n",
    "    # we're going to use the biopython Medline parser to parse the records\n",
    "    # https://biopython.org/docs/1.75/api/Bio.Medline.html\n",
    "    # print out the paper titles\n",
    "    for id in record['IdList']:\n",
    "        handle = Entrez.efetch(db=\"pubmed\", id=id, rettype=\"medline\", retmode=\"text\")\n",
    "        record = Medline.parse(handle)\n",
    "        for article in record:\n",
    "            print(article['TI'])\n",
    "        handle.close()\n",
    "\n",
    "paperCount('CDH7 AND disease')\n",
    "fetchPapers('CDH7 AND disease')"
   ]
  },
  {
   "cell_type": "code",
   "execution_count": null,
   "metadata": {},
   "outputs": [],
   "source": [
    "#single cell RNA sequencing\n",
    "scrna_sequencing_counts = {}\n",
    "\n",
    "# note the egquery function provides Entrez database counts from a global search.\n",
    "for i in range(2010,2022,1):\n",
    "    handle = Entrez.egquery(term=str(i)+'[dp] AND \"single cell RNA sequencing\"')\n",
    "    record = Entrez.read(handle)\n",
    "    handle.close()\n",
    "    # we can iterate through the record and only return the 'nucleotide' result\n",
    "    for row in record[\"eGQueryResult\"]:\n",
    "        if row[\"DbName\"]==\"pubmed\":\n",
    "            scrna_sequencing_counts[i] = int(row[\"Count\"])\n",
    "\n",
    "scrnaseq_papers_by_year = pd.DataFrame.from_dict(scrna_sequencing_counts,orient='index',columns=['counts'])\n",
    "scrnaseq_papers_by_year.plot.line(xlabel='year',ylabel='paper count', title='single cell RNA sequencing papers by year', legend=False)"
   ]
  }
 ],
 "metadata": {
  "interpreter": {
   "hash": "3780209f5c547b790e301ddcf82da1791fd2d3a86603b11e6f996468095ce25a"
  },
  "kernelspec": {
   "display_name": "Python 3.7.4 64-bit (conda)",
   "name": "python3"
  },
  "language_info": {
   "codemirror_mode": {
    "name": "ipython",
    "version": 3
   },
   "file_extension": ".py",
   "mimetype": "text/x-python",
   "name": "python",
   "nbconvert_exporter": "python",
   "pygments_lexer": "ipython3",
   "version": "3.11.5"
  },
  "orig_nbformat": 2
 },
 "nbformat": 4,
 "nbformat_minor": 2
}
