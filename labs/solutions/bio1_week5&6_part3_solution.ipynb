{
 "cells": [
  {
   "cell_type": "markdown",
   "metadata": {},
   "source": [
    "### Week 5 - Biological Databases - Gene Ontology\n",
    "- October 2023\n",
    "- [https://https://github.com/tisimpson/bioinformatics1](https://github.com/tisimpson/bioinformatics1)\n",
    "- [ian.simpson@ed.ac.uk](mailto:ian.simpson@ed.ac.uk)"
   ]
  },
  {
   "cell_type": "code",
   "execution_count": null,
   "metadata": {},
   "outputs": [],
   "source": [
    "import pandas as pd\n",
    "import urllib as ul\n",
    "import numpy as np"
   ]
  },
  {
   "cell_type": "code",
   "execution_count": null,
   "metadata": {},
   "outputs": [],
   "source": [
    "#retrieve the gene_ids from the previous section (dop_geneids.txt)\n",
    "dop_gene_ids = pd.read_csv('../data/pathways/cams_geneids.txt',header=None)\n",
    "dop_gene_ids.columns=['GeneID']\n",
    "dop_gene_ids.head()"
   ]
  },
  {
   "cell_type": "code",
   "execution_count": null,
   "metadata": {},
   "outputs": [],
   "source": [
    "# We are going to retrieve the mapping file produced by the GeneOntology consortium that maps genes to GO terms this is stored in the gene2go file at the NCBI\n",
    "# ul.request.urlretrieve('https://ftp.ncbi.nlm.nih.gov/gene/DATA/gene2go.gz','../data/ontology/gene2go.gz')\n",
    "\n",
    "# We can read this file into a pandas dataframe using the read_csv function\n",
    "gene2go = pd.read_csv('../data/ontology/gene2go.gz', compression='gzip', header=0, sep='\\t')\n",
    "\n",
    "# We can look at the first few rows of the dataframe using the head function\n",
    "gene2go.head()"
   ]
  },
  {
   "cell_type": "code",
   "execution_count": null,
   "metadata": {},
   "outputs": [],
   "source": [
    "#now explicitly restrict to human (tax_id - 9606)\n",
    "human_gene2go = gene2go[gene2go['#tax_id']==9606]"
   ]
  },
  {
   "cell_type": "code",
   "execution_count": null,
   "metadata": {},
   "outputs": [],
   "source": [
    "# We can look at the first few rows of the dataframe using the head function\n",
    "human_gene2go.head()"
   ]
  },
  {
   "cell_type": "code",
   "execution_count": null,
   "metadata": {},
   "outputs": [],
   "source": [
    "# We can merge data frames on matching keys using the merge function in Pandas\n",
    "# Here we only look for GO annotations that are associated with dopaminergic genes\n",
    "dop_gos = pd.merge(dop_gene_ids,human_gene2go,right_on='GeneID',left_on='GeneID')\n",
    "\n",
    "# what is the most frequent GO term annotated to the dopaminergic genes?\n",
    "# we can use the pandas groupby function to group the data by GO_ID and then count the number of rows in each group\n",
    "dop_go_counts = dop_gos.groupby('GO_ID').size().sort_values(ascending=False)\n",
    "\n",
    "# show the top10 terms in a prettytable\n",
    "from prettytable import PrettyTable\n",
    "top10 = dop_go_counts.head(10)\n",
    "t = PrettyTable(['GO_ID','Count'])\n",
    "for i in top10.index:\n",
    "    t.add_row([i,top10[i]])\n",
    "print(t)"
   ]
  },
  {
   "cell_type": "code",
   "execution_count": null,
   "metadata": {},
   "outputs": [],
   "source": [
    "# ideally we would like a table that also includes the GO term description\n",
    "\n",
    "#create a unique lookup dataframe for GO_ID term descriptions from our dopaminergic GO gene dataframe\n",
    "unique_dop_gos = dop_gos[['GO_ID','GO_term']].drop_duplicates()\n",
    "\n",
    "# now print out our top 10 GO terms with their descriptions using prettytable\n",
    "t = PrettyTable(['GO_ID','Count','GO_term'])\n",
    "for i in top10.index:\n",
    "    t.add_row([i,top10[i],unique_dop_gos[unique_dop_gos['GO_ID'] == i]['GO_term'].values[0]])\n",
    "print(t)"
   ]
  },
  {
   "cell_type": "code",
   "execution_count": null,
   "metadata": {},
   "outputs": [],
   "source": [
    "# we can use this dataframe to ask lots of interesting questions about the data\n",
    "\n",
    "# how many human genes are there in our human gene2GO set?\n",
    "num_human_genes_ingo = len(human_gene2go['GeneID'].drop_duplicates())\n",
    "print('There are '+str(num_human_genes_ingo)+' human genes in our human gene2GO set')\n",
    "\n",
    "# how many genes are annotated with GO:0005515 in our human gene2GO set?\n",
    "top_goid = dop_go_counts.index[0]\n",
    "num_human_genes_withtop = len(human_gene2go[human_gene2go['GO_ID'] == top_goid]['GeneID'].drop_duplicates())\n",
    "print('There are '+str(num_human_genes_withtop)+' human genes annotated with '+top_goid+' in our human gene2GO set')\n",
    "\n",
    "# what is the size of our gene list?\n",
    "num_human_genes_inlist = len(dop_gene_ids['GeneID'].drop_duplicates())\n",
    "print('There are '+str(num_human_genes_inlist)+' genes in our gene list')\n",
    "\n",
    "# how many genes would we expect to be annoated with the top GO_ID?\n",
    "expectation = num_human_genes_withtop/num_human_genes_ingo * num_human_genes_inlist\n",
    "print('We would expect to see this '+str(round(expectation,2))+' times')\n",
    "\n",
    "# how many genes in our list are annotated with the top GO_ID?\n",
    "observation = dop_go_counts[top_goid]\n",
    "print('We actually see this '+str(round(observation,2))+' times')\n",
    "\n",
    "# what's the enrichment?\n",
    "print('So, the top GO term is found '+str(round(observation/expectation,2))+' times more frequently than we would expect by chance')\n",
    "\n",
    "# why might we want to know this?"
   ]
  }
 ],
 "metadata": {
  "interpreter": {
   "hash": "3780209f5c547b790e301ddcf82da1791fd2d3a86603b11e6f996468095ce25a"
  },
  "kernelspec": {
   "display_name": "Python 3.7.4 64-bit (conda)",
   "name": "python3"
  },
  "language_info": {
   "codemirror_mode": {
    "name": "ipython",
    "version": 3
   },
   "file_extension": ".py",
   "mimetype": "text/x-python",
   "name": "python",
   "nbconvert_exporter": "python",
   "pygments_lexer": "ipython3",
   "version": "3.11.5"
  },
  "orig_nbformat": 2
 },
 "nbformat": 4,
 "nbformat_minor": 2
}
